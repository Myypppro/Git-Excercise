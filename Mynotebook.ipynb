{
 "cells": [
  {
   "cell_type": "markdown",
   "id": "e4c9fe34-e22a-4a49-8837-9cd32a225a34",
   "metadata": {},
   "source": [
    "# My Jupyter Notebook on Watson Studio"
   ]
  },
  {
   "cell_type": "markdown",
   "id": "71bbb2eb-f58b-43ed-b242-c65f6a6f9700",
   "metadata": {},
   "source": [
    "**Edwin Onyango**\n",
    "\n",
    "Data Scientist"
   ]
  },
  {
   "cell_type": "markdown",
   "id": "e0d22370-6aeb-4f5c-902e-735d33c24bcb",
   "metadata": {},
   "source": [
    "*I am interested in Data Science because I love working with data*"
   ]
  },
  {
   "cell_type": "markdown",
   "id": "9212b9b7-b0c8-4e34-b81f-0bb29ab5ab24",
   "metadata": {},
   "source": [
    "### The following code prints \"Hello World\""
   ]
  },
  {
   "cell_type": "code",
   "execution_count": 1,
   "id": "baf09ebe-021f-4639-a0b3-c868f07e8567",
   "metadata": {},
   "outputs": [
    {
     "name": "stdout",
     "output_type": "stream",
     "text": [
      "Hello World\n"
     ]
    }
   ],
   "source": [
    "print(\"Hello World\")"
   ]
  },
  {
   "cell_type": "code",
   "execution_count": null,
   "id": "21a985c1-afa9-4169-a120-01908dc18b87",
   "metadata": {},
   "outputs": [],
   "source": []
  }
 ],
 "metadata": {
  "kernelspec": {
   "display_name": "Python",
   "language": "python",
   "name": "conda-env-python-py"
  },
  "language_info": {
   "codemirror_mode": {
    "name": "ipython",
    "version": 3
   },
   "file_extension": ".py",
   "mimetype": "text/x-python",
   "name": "python",
   "nbconvert_exporter": "python",
   "pygments_lexer": "ipython3",
   "version": "3.7.12"
  }
 },
 "nbformat": 4,
 "nbformat_minor": 5
}
